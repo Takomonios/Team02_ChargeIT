{
 "cells": [
  {
   "cell_type": "code",
   "execution_count": 3,
   "metadata": {},
   "outputs": [],
   "source": [
    "import pandas as pd\n",
    "import heapq"
   ]
  },
  {
   "cell_type": "code",
   "execution_count": 5,
   "metadata": {},
   "outputs": [
    {
     "name": "stdout",
     "output_type": "stream",
     "text": [
      "Die nächste Koordinate zu [38.8951, -77.0364] ist [40.7128, -74.006]\n",
      "Entfernung: 3.5337455270576585\n"
     ]
    }
   ],
   "source": [
    "import numpy as np\n",
    "from sklearn.neighbors import NearestNeighbors\n",
    "\n",
    "# Beispiel-Koordinatenliste mit Längen- und Breitengraden\n",
    "coordinates = [\n",
    "    [40.7128, -74.0060],  # New York\n",
    "    [34.0522, -118.2437],  # Los Angeles\n",
    "    [51.5074, -0.1278],    # London\n",
    "    [48.8566, 2.3522],     # Paris\n",
    "    [37.7749, -122.4194]   # San Francisco\n",
    "]\n",
    "\n",
    "# Anzahl der nächsten Nachbarn, die Sie suchen möchten\n",
    "k = 1\n",
    "\n",
    "# Erstellen des k-NN-Modells\n",
    "knn_model = NearestNeighbors(n_neighbors=k)\n",
    "knn_model.fit(coordinates)\n",
    "\n",
    "# Wählen Sie eine Koordinate, für die Sie den nächsten Nachbarn finden möchten\n",
    "query_coordinate = [38.8951, -77.0364]  # Washington, DC\n",
    "\n",
    "# Finden Sie die nächsten Nachbarn der ausgewählten Koordinate\n",
    "distances, indices = knn_model.kneighbors([query_coordinate])\n",
    "\n",
    "# Zeigen Sie die Informationen über den nächsten Nachbarn an\n",
    "nearest_neighbor_index = indices[0][0]\n",
    "nearest_neighbor_distance = distances[0][0]\n",
    "nearest_neighbor = coordinates[nearest_neighbor_index]\n",
    "\n",
    "print(\"Die nächste Koordinate zu\", query_coordinate, \"ist\", nearest_neighbor)\n",
    "print(\"Entfernung:\", nearest_neighbor_distance)"
   ]
  },
  {
   "cell_type": "markdown",
   "metadata": {},
   "source": [
    "k-nearest neighbors (k-NN) Algorithmus, um den nächsten Nachbarn einer gegebenen Koordinate in einer Liste von Koordinaten zu finden. \n",
    "Hier ist eine Schritt-für-Schritt-Erklärung des Codes und des Algorithmus:\n",
    "\n",
    "Importieren der erforderlichen Bibliotheken:\n",
    "\n",
    "python\n",
    "Copy code\n",
    "import numpy as np\n",
    "from sklearn.neighbors import NearestNeighbors\n",
    "\n",
    "In diesem Schritt importieren wir die numpy-Bibliothek (für numerische Berechnungen) und die NearestNeighbors-Klasse aus der sklearn.neighbors-Bibliothek (Scikit-learn's Untermodul für Nachbarschaftsbasierte Algorithmen).\n",
    "\n",
    "Definieren der Koordinatenliste:\n",
    "\n",
    "python\n",
    "Copy code\n",
    "coordinates = [\n",
    "    [40.7128, -74.0060],  # New York\n",
    "    [34.0522, -118.2437],  # Los Angeles\n",
    "    [51.5074, -0.1278],    # London\n",
    "    [48.8566, 2.3522],     # Paris\n",
    "    [37.7749, -122.4194]   # San Francisco\n",
    "]\n",
    "Hier erstellen wir eine Liste von Koordinaten, die jeweils aus einem Paar von Längen- und Breitengraden bestehen. Diese Koordinaten repräsentieren verschiedene Städte.\n",
    "\n",
    "Erstellen des k-NN-Modells:\n",
    "\n",
    "python\n",
    "Copy code\n",
    "knn_model = NearestNeighbors(n_neighbors=k)\n",
    "knn_model.fit(coordinates)\n",
    "Hier erstellen wir ein k-NN-Modell mit der NearestNeighbors-Klasse und geben die Anzahl der nächsten Nachbarn (k) an, die wir suchen möchten. Wir passen das Modell an unsere Koordinatenliste an.\n",
    "\n",
    "Wählen der Suchkoordinate:\n",
    "\n",
    "python\n",
    "Copy code\n",
    "query_coordinate = [38.8951, -77.0364]  # Washington, DC\n",
    "Wir wählen eine Koordinate aus, für die wir den nächsten Nachbarn finden möchten. In diesem Fall verwenden wir die Koordinaten von Washington, DC.\n",
    "\n",
    "Finden der nächsten Nachbarn:\n",
    "\n",
    "python\n",
    "Copy code\n",
    "distances, indices = knn_model.kneighbors([query_coordinate])\n",
    "Wir verwenden das erstellte k-NN-Modell, um die nächsten Nachbarn der ausgewählten Suchkoordinate zu finden. Die Methode kneighbors gibt die Entfernungen und Indizes der nächsten Nachbarn zurück.\n",
    "\n",
    "Anzeigen der Ergebnisse:\n",
    "\n",
    "python\n",
    "Copy code\n",
    "nearest_neighbor_index = indices[0][0]\n",
    "nearest_neighbor_distance = distances[0][0]\n",
    "nearest_neighbor = coordinates[nearest_neighbor_index]\n",
    "\n",
    "print(\"Die nächste Koordinate zu\", query_coordinate, \"ist\", nearest_neighbor)\n",
    "print(\"Entfernung:\", nearest_neighbor_distance)\n",
    "Hier extrahieren wir die Informationen über den nächsten Nachbarn aus den zurückgegebenen Ergebnissen und geben diese auf der Konsole aus.\n",
    "\n",
    "Der k-nearest neighbors (k-NN) Algorithmus verwendet die euklidische Distanz zwischen den Koordinaten, um die nächsten Nachbarn zu finden. Der Algorithmus sucht nach den k nächsten Nachbarn einer gegebenen Koordinate, indem er die Distanz zwischen den Koordinatenpaaren berechnet und die k nächstgelegenen auswählt. In diesem Beispiel wurde die NearestNeighbors-Klasse aus der scikit-learn-Bibliothek verwendet, um den Algorithmus einfach anzuwenden."
   ]
  }
 ],
 "metadata": {
  "kernelspec": {
   "display_name": "Python 3",
   "language": "python",
   "name": "python3"
  },
  "language_info": {
   "codemirror_mode": {
    "name": "ipython",
    "version": 3
   },
   "file_extension": ".py",
   "mimetype": "text/x-python",
   "name": "python",
   "nbconvert_exporter": "python",
   "pygments_lexer": "ipython3",
   "version": "3.9.7"
  },
  "orig_nbformat": 4
 },
 "nbformat": 4,
 "nbformat_minor": 2
}
